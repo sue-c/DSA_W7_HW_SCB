{
 "cells": [
  {
   "cell_type": "code",
   "execution_count": 1,
   "metadata": {},
   "outputs": [],
   "source": [
    "# Importing Numpy\n",
    "import numpy as np"
   ]
  },
  {
   "cell_type": "code",
   "execution_count": 2,
   "metadata": {},
   "outputs": [
    {
     "name": "stdout",
     "output_type": "stream",
     "text": [
      "[None None None None 1 None None None None None]\n",
      "[None None None None 1 None None None None None]\n"
     ]
    }
   ],
   "source": [
    "#1. Create a null array of size 10 but the fifth value which is 1\n",
    "\n",
    "hw1 = np.array([None,None,None,None,1,None,None,None,None,None])\n",
    "print(hw1)\n",
    "\n",
    "hw12 = np.array([None] * 10)\n",
    "hw12[4]=1\n",
    "print(hw12)"
   ]
  },
  {
   "cell_type": "code",
   "execution_count": 3,
   "metadata": {},
   "outputs": [
    {
     "name": "stdout",
     "output_type": "stream",
     "text": [
      "[None None None None None 1 None None None None]\n"
     ]
    }
   ],
   "source": [
    "#2. Reverse a above created array (first element becomes last)\n",
    "# Note for myself [X:Y:-1) <= from X to Y, reverse\n",
    "\n",
    "hw2 = hw1[::-1]\n",
    "print(hw2)"
   ]
  },
  {
   "cell_type": "code",
   "execution_count": 4,
   "metadata": {},
   "outputs": [
    {
     "name": "stdout",
     "output_type": "stream",
     "text": [
      "[[0 1 2]\n",
      " [3 4 5]\n",
      " [6 7 8]]\n",
      "[[0 1 2]\n",
      " [3 4 5]\n",
      " [6 7 8]]\n"
     ]
    }
   ],
   "source": [
    "#3. Create a 3x3 matrix with values ranging from 0 to 8\n",
    "hw3 = np.array([[0,1,2],[3,4,5],[6,7,8]])\n",
    "print(hw3)\n",
    "\n",
    "hw3 = np.arange(9).reshape(3, 3) \n",
    "print(hw3)"
   ]
  },
  {
   "cell_type": "code",
   "execution_count": 24,
   "metadata": {},
   "outputs": [
    {
     "ename": "SyntaxError",
     "evalue": "unexpected EOF while parsing (<ipython-input-24-e14d3692965c>, line 10)",
     "output_type": "error",
     "traceback": [
      "\u001b[1;36m  File \u001b[1;32m\"<ipython-input-24-e14d3692965c>\"\u001b[1;36m, line \u001b[1;32m10\u001b[0m\n\u001b[1;33m    print(array(np.where(hw4 != 0)[0])\u001b[0m\n\u001b[1;37m                                      ^\u001b[0m\n\u001b[1;31mSyntaxError\u001b[0m\u001b[1;31m:\u001b[0m unexpected EOF while parsing\n"
     ]
    }
   ],
   "source": [
    "#4. Find indices of non-zero elements from [1,2,0,0,4,0]\n",
    "\n",
    "hw4 = [1,2,0,0,4,0]\n",
    "print(hw4)\n",
    "print(np.count_nonzero(hw4))\n",
    "\n",
    "# return x if x is not 0, datafile\n",
    "print(list(filter(lambda x: x != 0, hw4)))\n"
   ]
  },
  {
   "cell_type": "code",
   "execution_count": 6,
   "metadata": {},
   "outputs": [
    {
     "name": "stdout",
     "output_type": "stream",
     "text": [
      "[[[0.49233254 0.22769636 0.46707362]\n",
      "  [0.05122525 0.23862167 0.34739632]\n",
      "  [0.67615376 0.92362044 0.54046809]]\n",
      "\n",
      " [[0.26593613 0.33194084 0.04890602]\n",
      "  [0.4164712  0.29770144 0.81252821]\n",
      "  [0.52249267 0.12282651 0.19959171]]\n",
      "\n",
      " [[0.51607832 0.49294497 0.72994118]\n",
      "  [0.62557138 0.23646728 0.29476981]\n",
      "  [0.89038849 0.91477961 0.27760419]]]\n"
     ]
    }
   ],
   "source": [
    "#5. Create a 3x3x3 array with random values\n",
    "hw5 = np.random.random(size=(3,3,3))\n",
    "print(hw5)"
   ]
  },
  {
   "cell_type": "code",
   "execution_count": 7,
   "metadata": {},
   "outputs": [
    {
     "name": "stdout",
     "output_type": "stream",
     "text": [
      "[[0.27005409 0.62671244 0.22440916 0.867948   0.77899486 0.08673138\n",
      "  0.76150877 0.00708323 0.88323629 0.63063006]\n",
      " [0.08311346 0.77055798 0.19111007 0.98371538 0.36337456 0.64922926\n",
      "  0.24253055 0.84096141 0.12059555 0.39329811]\n",
      " [0.23811443 0.03102141 0.10430772 0.04653523 0.33812774 0.19493255\n",
      "  0.60163791 0.96594392 0.96278683 0.14438322]\n",
      " [0.19757802 0.69773782 0.71290804 0.53859176 0.45818602 0.29432629\n",
      "  0.84823461 0.85180221 0.55966154 0.10429759]\n",
      " [0.88389065 0.11156141 0.53027363 0.49091929 0.02957805 0.83100576\n",
      "  0.98118323 0.84655561 0.58413921 0.8641843 ]\n",
      " [0.3450428  0.0567083  0.37934735 0.97155779 0.21520377 0.82569601\n",
      "  0.20019221 0.74118981 0.50774049 0.64343017]\n",
      " [0.19267226 0.55455507 0.33430921 0.16322821 0.41533054 0.96086776\n",
      "  0.19617785 0.00823333 0.1667581  0.25757567]\n",
      " [0.90566656 0.09047074 0.04536537 0.18325103 0.79586029 0.75384138\n",
      "  0.69962041 0.85606896 0.8221336  0.37614562]\n",
      " [0.88407478 0.06396285 0.6618358  0.34277469 0.67755579 0.28989403\n",
      "  0.6540098  0.15120123 0.72972576 0.20802208]\n",
      " [0.36393953 0.28123749 0.46484783 0.68630905 0.38282279 0.76264698\n",
      "  0.45905271 0.32327643 0.8116998  0.93126534]]\n",
      "0.007083231934224998\n",
      "0.9837153776185779\n"
     ]
    }
   ],
   "source": [
    "#6. Create a 10x10 array with random values and find the minimum and maximum values\n",
    "hw6 = np.random.random(size=(10,10))\n",
    "print(hw6)\n",
    "print(np.min(hw6))\n",
    "print(np.max(hw6))"
   ]
  },
  {
   "cell_type": "code",
   "execution_count": 8,
   "metadata": {},
   "outputs": [
    {
     "name": "stdout",
     "output_type": "stream",
     "text": [
      "[0.52507537 0.46212845 0.34825518 0.10135035 0.34987349 0.94285563\n",
      " 0.37238878 0.98000941 0.53108975 0.39977294 0.1907064  0.85321705\n",
      " 0.8390248  0.93233785 0.20016725 0.67316441 0.597892   0.01171651\n",
      " 0.29372518 0.49998626 0.3167813  0.99679606 0.63344811 0.60258365\n",
      " 0.60908697 0.79980042 0.63056435 0.19186962 0.16320439 0.7385591 ]\n",
      "0.5262477017672742\n"
     ]
    }
   ],
   "source": [
    "#7. Create a random vector of size 30 and find the mean value\n",
    "hw7 = np.random.random(size=(30,))\n",
    "print(hw7)\n",
    "print(np.mean(hw7))"
   ]
  },
  {
   "cell_type": "code",
   "execution_count": 9,
   "metadata": {},
   "outputs": [
    {
     "name": "stdout",
     "output_type": "stream",
     "text": [
      "[[0 0 0 0 0]\n",
      " [0 0 0 0 0]\n",
      " [0 0 0 0 0]\n",
      " [0 0 0 0 0]\n",
      " [0 0 0 0 0]]\n",
      "[[1 1 1 1 1]\n",
      " [1 0 0 0 1]\n",
      " [1 0 0 0 1]\n",
      " [1 0 0 0 1]\n",
      " [1 1 1 1 1]]\n"
     ]
    }
   ],
   "source": [
    "#8. Create a 2d array with 1 on the border and 0 inside\n",
    "\n",
    "hw8=np.zeros((5,5),dtype=int)\n",
    "print(hw8)\n",
    "\n",
    "hw8[:,0]=1\n",
    "hw8[:,-1]=1\n",
    "hw8[0,:]=1\n",
    "hw8[-1,:]=1\n",
    "print(hw8)"
   ]
  },
  {
   "cell_type": "code",
   "execution_count": 10,
   "metadata": {},
   "outputs": [
    {
     "name": "stdout",
     "output_type": "stream",
     "text": [
      "[[5 1 2]\n",
      " [1 3 3]\n",
      " [7 6 5]\n",
      " [4 3 9]\n",
      " [3 0 1]]\n",
      "[[0 1]\n",
      " [6 2]\n",
      " [5 8]]\n",
      "[[25  1  4]\n",
      " [ 1  9  9]\n",
      " [49 36 25]\n",
      " [16  9 81]\n",
      " [ 9  0  1]]\n"
     ]
    }
   ],
   "source": [
    "#9. Multiply a 5x3 matrix by a 3x2 matrix (real matrix product)\n",
    "\n",
    "hw91 = np.random.randint(0,10,(5,3))\n",
    "hw92 = np.random.randint(0,10,(3,2))\n",
    "print(hw91)\n",
    "print(hw92)\n",
    "hw9=hw91*hw91\n",
    "print(hw9)"
   ]
  },
  {
   "cell_type": "code",
   "execution_count": 27,
   "metadata": {},
   "outputs": [
    {
     "name": "stdout",
     "output_type": "stream",
     "text": [
      "[[2.01466848 1.71248848 2.07198858]\n",
      " [2.18451353 1.7435189  2.34661773]\n",
      " [2.15532863 2.28439055 2.42123343]]\n",
      "[[2. 1. 2.]\n",
      " [2. 1. 2.]\n",
      " [2. 2. 2.]]\n",
      "[[2. 1. 2.]\n",
      " [2. 1. 2.]\n",
      " [2. 2. 2.]]\n"
     ]
    }
   ],
   "source": [
    "#10. Extract the integer part of a random array\n",
    "\n",
    "hw10 = np.random.random(size=(3,3))+1.5\n",
    "print(hw10)\n",
    "print(hw10 // 1)\n",
    "\n",
    "print(np.trunc(hw10))"
   ]
  },
  {
   "cell_type": "code",
   "execution_count": 12,
   "metadata": {},
   "outputs": [
    {
     "data": {
      "text/plain": [
       "array([[3, 2, 1, 3, 3],\n",
       "       [3, 0, 3, 1, 0],\n",
       "       [2, 3, 4, 0, 1],\n",
       "       [2, 2, 4, 2, 0],\n",
       "       [3, 1, 1, 1, 3]])"
      ]
     },
     "execution_count": 12,
     "metadata": {},
     "output_type": "execute_result"
    }
   ],
   "source": [
    "#11. Create a 5x5 matrix with row values ranging from 0 to 4\n",
    "hw11 = np.random.randint(0,5,(5,5))\n",
    "hw11"
   ]
  },
  {
   "cell_type": "code",
   "execution_count": 13,
   "metadata": {},
   "outputs": [
    {
     "name": "stdout",
     "output_type": "stream",
     "text": [
      "[5 7 8 4 3 2 1 9 2 1]\n",
      "[1 1 2 2 3 4 5 7 8 9]\n"
     ]
    }
   ],
   "source": [
    "#12.  Create a random vector of size 10 and sort it\n",
    "hw12 = np.random.randint(1,10,(10,))\n",
    "print(hw12)\n",
    "hw12.sort()\n",
    "print(hw12)"
   ]
  },
  {
   "cell_type": "code",
   "execution_count": 26,
   "metadata": {},
   "outputs": [
    {
     "name": "stdout",
     "output_type": "stream",
     "text": [
      "3\n"
     ]
    },
    {
     "data": {
      "text/plain": [
       "False"
      ]
     },
     "execution_count": 26,
     "metadata": {},
     "output_type": "execute_result"
    }
   ],
   "source": [
    "#13. Consider two random array A anb B, check if they are equal.\n",
    "\n",
    "hw121 = np.random.randint(1,10,(3,))\n",
    "hw122 = np.random.randint(1,10,(3,))\n",
    "print(np.count_nonzero(hw121-hw122))\n",
    "\n",
    "np.array_equal(hw121, hw122)"
   ]
  },
  {
   "cell_type": "code",
   "execution_count": 16,
   "metadata": {},
   "outputs": [
    {
     "name": "stdout",
     "output_type": "stream",
     "text": [
      "[[0 None 2]\n",
      " [3 4 None]\n",
      " [None 7 8]]\n",
      "[None]\n"
     ]
    }
   ],
   "source": [
    "#14. How to tell if a given 2D array has null columns?\n",
    "\n",
    "hw14 = np.array([[0,None,2],[3,4,None],[None,7,8]])\n",
    "print (hw14)\n",
    "print(list(map(lambda x: x, filter(lambda x: x == None, hw14[0,:]))))\n",
    "\n",
    "##### QUESTION 1: If I do not include [0,:], an error shows up ==> ValueError: The truth value of an array with more than one element is ambiguous. Use a.any() or a.all()\n",
    "# How do we solve this?"
   ]
  },
  {
   "cell_type": "code",
   "execution_count": 15,
   "metadata": {},
   "outputs": [
    {
     "name": "stdout",
     "output_type": "stream",
     "text": [
      "[[9 9 5 7]\n",
      " [6 7 5 0]\n",
      " [1 1 9 7]\n",
      " [4 8 4 1]]\n",
      "35\n"
     ]
    }
   ],
   "source": [
    "#15. Considering a four dimensions array, how to get sum over the last two axis at once?\n",
    "\n",
    "hw15 = np.random.randint(0,10,(4,4))\n",
    "print(hw15)\n",
    "print(sum(sum(map(lambda x: x, hw15[-2:,]))))"
   ]
  },
  {
   "cell_type": "code",
   "execution_count": 29,
   "metadata": {},
   "outputs": [
    {
     "name": "stdout",
     "output_type": "stream",
     "text": [
      "[[[8 9 7]\n",
      "  [5 8 1]\n",
      "  [8 2 5]\n",
      "  [1 2 3]\n",
      "  [8 7 9]]\n",
      "\n",
      " [[7 3 3]\n",
      "  [1 8 3]\n",
      "  [6 9 9]\n",
      "  [2 1 0]\n",
      "  [9 9 3]]\n",
      "\n",
      " [[5 1 5]\n",
      "  [8 4 3]\n",
      "  [7 0 6]\n",
      "  [1 2 5]\n",
      "  [0 6 0]]\n",
      "\n",
      " [[0 4 8]\n",
      "  [4 8 1]\n",
      "  [2 8 6]\n",
      "  [8 2 2]\n",
      "  [2 1 6]]\n",
      "\n",
      " [[3 4 5]\n",
      "  [0 0 9]\n",
      "  [9 1 1]\n",
      "  [6 0 5]\n",
      "  [7 5 7]]]\n",
      "[[9 8 4 1 7]\n",
      " [3 2 2 7 6]\n",
      " [1 4 6 7 4]\n",
      " [3 8 9 3 8]\n",
      " [2 0 4 6 8]]\n",
      "[[72 64 32 ... 32 48 64]\n",
      " [81 72 36 ... 36 54 72]\n",
      " [63 56 28 ... 28 42 56]\n",
      " ...\n",
      " [63 56 28 ... 28 42 56]\n",
      " [45 40 20 ... 20 30 40]\n",
      " [63 56 28 ... 28 42 56]]\n",
      "[[[9 8 4 1 7]\n",
      "  [3 2 2 7 6]\n",
      "  [1 4 6 7 4]\n",
      "  [3 8 9 3 8]\n",
      "  [2 0 4 6 8]]\n",
      "\n",
      " [[9 8 4 1 7]\n",
      "  [3 2 2 7 6]\n",
      "  [1 4 6 7 4]\n",
      "  [3 8 9 3 8]\n",
      "  [2 0 4 6 8]]\n",
      "\n",
      " [[9 8 4 1 7]\n",
      "  [3 2 2 7 6]\n",
      "  [1 4 6 7 4]\n",
      "  [3 8 9 3 8]\n",
      "  [2 0 4 6 8]]\n",
      "\n",
      " [[9 8 4 1 7]\n",
      "  [3 2 2 7 6]\n",
      "  [1 4 6 7 4]\n",
      "  [3 8 9 3 8]\n",
      "  [2 0 4 6 8]]\n",
      "\n",
      " [[9 8 4 1 7]\n",
      "  [3 2 2 7 6]\n",
      "  [1 4 6 7 4]\n",
      "  [3 8 9 3 8]\n",
      "  [2 0 4 6 8]]]\n"
     ]
    },
    {
     "ename": "ValueError",
     "evalue": "matmul: Input operand 1 has a mismatch in its core dimension 0, with gufunc signature (n?,k),(k,m?)->(n?,m?) (size 5 is different from 3)",
     "output_type": "error",
     "traceback": [
      "\u001b[1;31m---------------------------------------------------------------------------\u001b[0m",
      "\u001b[1;31mValueError\u001b[0m                                Traceback (most recent call last)",
      "\u001b[1;32m<ipython-input-29-e0af66b5eb70>\u001b[0m in \u001b[0;36m<module>\u001b[1;34m\u001b[0m\n\u001b[0;32m     15\u001b[0m \u001b[1;31m##### QUESTION 2: Coult not find how to do it!\u001b[0m\u001b[1;33m\u001b[0m\u001b[1;33m\u001b[0m\u001b[1;33m\u001b[0m\u001b[0m\n\u001b[0;32m     16\u001b[0m \u001b[1;31m# I'm seeing an error after executing below.\u001b[0m\u001b[1;33m\u001b[0m\u001b[1;33m\u001b[0m\u001b[1;33m\u001b[0m\u001b[0m\n\u001b[1;32m---> 17\u001b[1;33m \u001b[0mhw15\u001b[0m\u001b[1;33m=\u001b[0m\u001b[0mnp\u001b[0m\u001b[1;33m.\u001b[0m\u001b[0mmatmul\u001b[0m\u001b[1;33m(\u001b[0m\u001b[0mhw151\u001b[0m\u001b[1;33m,\u001b[0m \u001b[0mhw153\u001b[0m\u001b[1;33m)\u001b[0m\u001b[1;33m\u001b[0m\u001b[1;33m\u001b[0m\u001b[0m\n\u001b[0m\u001b[0;32m     18\u001b[0m \u001b[0mprint\u001b[0m\u001b[1;33m(\u001b[0m\u001b[0mhw15\u001b[0m\u001b[1;33m)\u001b[0m\u001b[1;33m\u001b[0m\u001b[1;33m\u001b[0m\u001b[0m\n",
      "\u001b[1;31mValueError\u001b[0m: matmul: Input operand 1 has a mismatch in its core dimension 0, with gufunc signature (n?,k),(k,m?)->(n?,m?) (size 5 is different from 3)"
     ]
    }
   ],
   "source": [
    "#16. Consider an array of dimension (5,5,3), how to mulitply it by an array with dimensions (5,5)?\n",
    "\n",
    "hw151 = np.random.randint(0,10,(5,5,3))\n",
    "print(hw151)\n",
    "\n",
    "hw152 = np.random.randint(0,10,(5,5))\n",
    "print(hw152)\n",
    "\n",
    "print(np.outer(hw151, hw152))\n",
    "\n",
    "# below building a 3D array out of a 2D array\n",
    "hw153 = np.stack([hw152, hw152, hw152, hw152, hw152])\n",
    "print(hw153)"
   ]
  },
  {
   "cell_type": "code",
   "execution_count": 37,
   "metadata": {},
   "outputs": [
    {
     "name": "stdout",
     "output_type": "stream",
     "text": [
      "[[5 1 8 0 8 9 8 2 2 9]\n",
      " [4 4 4 2 8 5 6 9 3 2]\n",
      " [6 2 2 9 4 7 8 4 0 6]\n",
      " [6 2 2 1 6 8 6 9 9 6]\n",
      " [3 8 9 7 3 8 8 9 6 7]\n",
      " [7 5 8 9 9 8 1 4 7 3]\n",
      " [4 2 4 0 6 9 9 0 7 8]\n",
      " [4 1 7 3 8 0 1 4 5 6]\n",
      " [0 7 5 3 4 7 7 7 2 8]\n",
      " [8 8 9 9 3 1 3 6 0 7]]\n",
      "[[[5 1 8]\n",
      "  [4 4 4]\n",
      "  [6 2 2]]\n",
      "\n",
      " [[1 8 0]\n",
      "  [4 4 2]\n",
      "  [2 2 9]]\n",
      "\n",
      " [[8 0 8]\n",
      "  [4 2 8]\n",
      "  [2 9 4]]\n",
      "\n",
      " [[0 8 9]\n",
      "  [2 8 5]\n",
      "  [9 4 7]]\n",
      "\n",
      " [[8 9 8]\n",
      "  [8 5 6]\n",
      "  [4 7 8]]\n",
      "\n",
      " [[9 8 2]\n",
      "  [5 6 9]\n",
      "  [7 8 4]]\n",
      "\n",
      " [[8 2 2]\n",
      "  [6 9 3]\n",
      "  [8 4 0]]\n",
      "\n",
      " [[2 2 9]\n",
      "  [9 3 2]\n",
      "  [4 0 6]]]\n"
     ]
    }
   ],
   "source": [
    "#17. Extract all the contiguous 3x3 blocks from a random 10x10 matrix\n",
    "\n",
    "hw17 = np.random.randint(0,10,(10,10))\n",
    "print(hw17)\n",
    "\n",
    "hw171 = np.stack([hw17[0:3,0:3], hw17[0:3,1:4], hw17[0:3,2:5],hw17[0:3,3:6],hw17[0:3,4:7],hw17[0:3,5:8],hw17[0:3,6:9],hw17[0:3,7:10]])\n",
    "print(hw171)\n",
    "\n",
    "##### QUESTION 3: I did the first set of columns on teh first three rows. Where should be a better way of doing this!"
   ]
  },
  {
   "cell_type": "code",
   "execution_count": 18,
   "metadata": {},
   "outputs": [
    {
     "name": "stdout",
     "output_type": "stream",
     "text": [
      "[[6 1 1 0 1 7 7 3 4 9 8 7 2 6 9 5]\n",
      " [6 4 3 6 3 7 9 6 6 2 9 8 7 5 7 4]\n",
      " [3 6 3 0 8 8 6 8 7 8 3 3 0 0 7 3]\n",
      " [8 4 8 8 9 5 6 3 5 3 2 2 1 8 1 2]\n",
      " [9 7 0 7 9 3 9 1 1 9 2 6 8 1 4 1]\n",
      " [0 0 5 5 0 2 6 4 6 4 6 4 2 8 2 8]\n",
      " [5 3 0 4 0 5 5 3 5 4 9 9 2 4 3 8]\n",
      " [6 0 8 7 0 1 9 5 2 4 7 2 2 9 1 6]\n",
      " [1 7 1 2 0 0 9 3 7 1 9 1 6 6 3 8]\n",
      " [7 4 5 4 5 6 9 1 5 9 3 4 3 2 1 1]\n",
      " [0 0 2 8 3 4 4 3 5 4 3 6 0 6 9 4]\n",
      " [5 2 2 4 0 2 5 9 3 9 8 9 3 7 0 2]\n",
      " [1 9 2 2 8 9 6 5 1 4 0 6 4 4 8 4]\n",
      " [6 5 5 7 0 7 9 6 6 6 2 3 2 0 3 0]\n",
      " [1 4 7 1 7 2 1 7 8 2 1 7 3 8 3 8]\n",
      " [3 5 4 3 8 5 3 6 8 4 1 4 7 4 2 3]]\n",
      "67\n"
     ]
    }
   ],
   "source": [
    "#18. Consider a 16x16 array, how to get the block-sum (block size is 4x4)?\n",
    "\n",
    "hw17 = np.random.randint(0,10,(16,16))\n",
    "print(hw17)\n",
    "print(sum(sum(map(lambda x: x, hw17[0:4,0:4]))))\n",
    "\n",
    "##### QUESTION 4: I'm not sure if I understoon the question correctly..."
   ]
  },
  {
   "cell_type": "markdown",
   "metadata": {},
   "source": [
    "NOTE: BELOW IS USING DATA PROVIDED"
   ]
  },
  {
   "cell_type": "code",
   "execution_count": 19,
   "metadata": {},
   "outputs": [],
   "source": [
    "import pandas as pd\n",
    "hwdata = pd.read_csv(\"C:/ETSProjects_SCB/UpskillTraining_2022/Week2/Homework/sample_test_data.csv\")"
   ]
  },
  {
   "cell_type": "code",
   "execution_count": 20,
   "metadata": {},
   "outputs": [
    {
     "name": "stdout",
     "output_type": "stream",
     "text": [
      "(476, 12)\n",
      "<class 'pandas.core.frame.DataFrame'>\n",
      "RangeIndex: 476 entries, 0 to 475\n",
      "Data columns (total 12 columns):\n",
      " #   Column    Non-Null Count  Dtype \n",
      "---  ------    --------------  ----- \n",
      " 0   item1     476 non-null    int64 \n",
      " 1   item2     476 non-null    int64 \n",
      " 2   item3     476 non-null    int64 \n",
      " 3   item4     476 non-null    int64 \n",
      " 4   item5     476 non-null    int64 \n",
      " 5   item6     476 non-null    int64 \n",
      " 6   item7     476 non-null    int64 \n",
      " 7   item8     476 non-null    int64 \n",
      " 8   item9     476 non-null    int64 \n",
      " 9   item10    476 non-null    int64 \n",
      " 10  item11    476 non-null    int64 \n",
      " 11  playerID  476 non-null    object\n",
      "dtypes: int64(11), object(1)\n",
      "memory usage: 44.8+ KB\n"
     ]
    },
    {
     "data": {
      "text/html": [
       "<div>\n",
       "<style scoped>\n",
       "    .dataframe tbody tr th:only-of-type {\n",
       "        vertical-align: middle;\n",
       "    }\n",
       "\n",
       "    .dataframe tbody tr th {\n",
       "        vertical-align: top;\n",
       "    }\n",
       "\n",
       "    .dataframe thead th {\n",
       "        text-align: right;\n",
       "    }\n",
       "</style>\n",
       "<table border=\"1\" class=\"dataframe\">\n",
       "  <thead>\n",
       "    <tr style=\"text-align: right;\">\n",
       "      <th></th>\n",
       "      <th>item1</th>\n",
       "      <th>item2</th>\n",
       "      <th>item3</th>\n",
       "      <th>item4</th>\n",
       "      <th>item5</th>\n",
       "      <th>item6</th>\n",
       "      <th>item7</th>\n",
       "      <th>item8</th>\n",
       "      <th>item9</th>\n",
       "      <th>item10</th>\n",
       "      <th>item11</th>\n",
       "    </tr>\n",
       "  </thead>\n",
       "  <tbody>\n",
       "    <tr>\n",
       "      <th>count</th>\n",
       "      <td>476.000000</td>\n",
       "      <td>476.000000</td>\n",
       "      <td>476.000000</td>\n",
       "      <td>476.000000</td>\n",
       "      <td>476.000000</td>\n",
       "      <td>476.000000</td>\n",
       "      <td>476.000000</td>\n",
       "      <td>476.000000</td>\n",
       "      <td>476.000000</td>\n",
       "      <td>476.000000</td>\n",
       "      <td>476.000000</td>\n",
       "    </tr>\n",
       "    <tr>\n",
       "      <th>mean</th>\n",
       "      <td>0.640756</td>\n",
       "      <td>0.617647</td>\n",
       "      <td>1.678571</td>\n",
       "      <td>0.588235</td>\n",
       "      <td>0.936975</td>\n",
       "      <td>0.852941</td>\n",
       "      <td>0.972689</td>\n",
       "      <td>1.934874</td>\n",
       "      <td>1.426471</td>\n",
       "      <td>0.544118</td>\n",
       "      <td>0.674370</td>\n",
       "    </tr>\n",
       "    <tr>\n",
       "      <th>std</th>\n",
       "      <td>0.480284</td>\n",
       "      <td>0.486473</td>\n",
       "      <td>0.467516</td>\n",
       "      <td>0.492671</td>\n",
       "      <td>0.243264</td>\n",
       "      <td>0.354537</td>\n",
       "      <td>0.163159</td>\n",
       "      <td>0.247008</td>\n",
       "      <td>0.726095</td>\n",
       "      <td>0.498574</td>\n",
       "      <td>0.844209</td>\n",
       "    </tr>\n",
       "    <tr>\n",
       "      <th>min</th>\n",
       "      <td>0.000000</td>\n",
       "      <td>0.000000</td>\n",
       "      <td>1.000000</td>\n",
       "      <td>0.000000</td>\n",
       "      <td>0.000000</td>\n",
       "      <td>0.000000</td>\n",
       "      <td>0.000000</td>\n",
       "      <td>1.000000</td>\n",
       "      <td>0.000000</td>\n",
       "      <td>0.000000</td>\n",
       "      <td>0.000000</td>\n",
       "    </tr>\n",
       "    <tr>\n",
       "      <th>25%</th>\n",
       "      <td>0.000000</td>\n",
       "      <td>0.000000</td>\n",
       "      <td>1.000000</td>\n",
       "      <td>0.000000</td>\n",
       "      <td>1.000000</td>\n",
       "      <td>1.000000</td>\n",
       "      <td>1.000000</td>\n",
       "      <td>2.000000</td>\n",
       "      <td>1.000000</td>\n",
       "      <td>0.000000</td>\n",
       "      <td>0.000000</td>\n",
       "    </tr>\n",
       "    <tr>\n",
       "      <th>50%</th>\n",
       "      <td>1.000000</td>\n",
       "      <td>1.000000</td>\n",
       "      <td>2.000000</td>\n",
       "      <td>1.000000</td>\n",
       "      <td>1.000000</td>\n",
       "      <td>1.000000</td>\n",
       "      <td>1.000000</td>\n",
       "      <td>2.000000</td>\n",
       "      <td>2.000000</td>\n",
       "      <td>1.000000</td>\n",
       "      <td>0.000000</td>\n",
       "    </tr>\n",
       "    <tr>\n",
       "      <th>75%</th>\n",
       "      <td>1.000000</td>\n",
       "      <td>1.000000</td>\n",
       "      <td>2.000000</td>\n",
       "      <td>1.000000</td>\n",
       "      <td>1.000000</td>\n",
       "      <td>1.000000</td>\n",
       "      <td>1.000000</td>\n",
       "      <td>2.000000</td>\n",
       "      <td>2.000000</td>\n",
       "      <td>1.000000</td>\n",
       "      <td>1.000000</td>\n",
       "    </tr>\n",
       "    <tr>\n",
       "      <th>max</th>\n",
       "      <td>1.000000</td>\n",
       "      <td>1.000000</td>\n",
       "      <td>2.000000</td>\n",
       "      <td>1.000000</td>\n",
       "      <td>1.000000</td>\n",
       "      <td>1.000000</td>\n",
       "      <td>1.000000</td>\n",
       "      <td>2.000000</td>\n",
       "      <td>2.000000</td>\n",
       "      <td>1.000000</td>\n",
       "      <td>2.000000</td>\n",
       "    </tr>\n",
       "  </tbody>\n",
       "</table>\n",
       "</div>"
      ],
      "text/plain": [
       "            item1       item2       item3       item4       item5       item6  \\\n",
       "count  476.000000  476.000000  476.000000  476.000000  476.000000  476.000000   \n",
       "mean     0.640756    0.617647    1.678571    0.588235    0.936975    0.852941   \n",
       "std      0.480284    0.486473    0.467516    0.492671    0.243264    0.354537   \n",
       "min      0.000000    0.000000    1.000000    0.000000    0.000000    0.000000   \n",
       "25%      0.000000    0.000000    1.000000    0.000000    1.000000    1.000000   \n",
       "50%      1.000000    1.000000    2.000000    1.000000    1.000000    1.000000   \n",
       "75%      1.000000    1.000000    2.000000    1.000000    1.000000    1.000000   \n",
       "max      1.000000    1.000000    2.000000    1.000000    1.000000    1.000000   \n",
       "\n",
       "            item7       item8       item9      item10      item11  \n",
       "count  476.000000  476.000000  476.000000  476.000000  476.000000  \n",
       "mean     0.972689    1.934874    1.426471    0.544118    0.674370  \n",
       "std      0.163159    0.247008    0.726095    0.498574    0.844209  \n",
       "min      0.000000    1.000000    0.000000    0.000000    0.000000  \n",
       "25%      1.000000    2.000000    1.000000    0.000000    0.000000  \n",
       "50%      1.000000    2.000000    2.000000    1.000000    0.000000  \n",
       "75%      1.000000    2.000000    2.000000    1.000000    1.000000  \n",
       "max      1.000000    2.000000    2.000000    1.000000    2.000000  "
      ]
     },
     "execution_count": 20,
     "metadata": {},
     "output_type": "execute_result"
    }
   ],
   "source": [
    "# calculate summary statistics of data provided using pandas and numpy\n",
    "\n",
    "print(hwdata.shape)\n",
    "hwdata.info()\n",
    "hwdata.describe()"
   ]
  },
  {
   "cell_type": "code",
   "execution_count": 90,
   "metadata": {},
   "outputs": [
    {
     "name": "stdout",
     "output_type": "stream",
     "text": [
      "mean\n",
      "item1     0.640756\n",
      "item2     0.617647\n",
      "item3     1.678571\n",
      "item4     0.588235\n",
      "item5     0.936975\n",
      "item6     0.852941\n",
      "item7     0.972689\n",
      "item8     1.934874\n",
      "item9     1.426471\n",
      "item10    0.544118\n",
      "item11    0.674370\n",
      "dtype: float64\n",
      "variance\n",
      "item1     0.230188\n",
      "item2     0.236159\n",
      "item3     0.218112\n",
      "item4     0.242215\n",
      "item5     0.059053\n",
      "item6     0.125433\n",
      "item7     0.026565\n",
      "item8     0.060885\n",
      "item9     0.526106\n",
      "item10    0.248054\n",
      "item11    0.711192\n",
      "dtype: float64\n",
      "sum\n",
      "item1                                                     305\n",
      "item2                                                     294\n",
      "item3                                                     799\n",
      "item4                                                     280\n",
      "item5                                                     446\n",
      "item6                                                     406\n",
      "item7                                                     463\n",
      "item8                                                     921\n",
      "item9                                                     679\n",
      "item10                                                    259\n",
      "item11                                                    321\n",
      "playerID    tetralogue1001tetralogue1002tetralogue1007tetr...\n",
      "dtype: object\n",
      "max\n",
      "item1                    1\n",
      "item2                    1\n",
      "item3                    2\n",
      "item4                    1\n",
      "item5                    1\n",
      "item6                    1\n",
      "item7                    1\n",
      "item8                    2\n",
      "item9                    2\n",
      "item10                   1\n",
      "item11                   2\n",
      "playerID    tetralogue2379\n",
      "dtype: object\n",
      "min\n",
      "item1                    0\n",
      "item2                    0\n",
      "item3                    1\n",
      "item4                    0\n",
      "item5                    0\n",
      "item6                    0\n",
      "item7                    0\n",
      "item8                    1\n",
      "item9                    0\n",
      "item10                   0\n",
      "item11                   0\n",
      "playerID    tetralogue1001\n",
      "dtype: object\n",
      "percentile\n"
     ]
    },
    {
     "ename": "TypeError",
     "evalue": "unsupported operand type(s) for -: 'str' and 'str'",
     "output_type": "error",
     "traceback": [
      "\u001b[1;31m---------------------------------------------------------------------------\u001b[0m",
      "\u001b[1;31mTypeError\u001b[0m                                 Traceback (most recent call last)",
      "\u001b[1;32m~\\AppData\\Local\\Temp/ipykernel_11788/1087522744.py\u001b[0m in \u001b[0;36m<module>\u001b[1;34m\u001b[0m\n\u001b[0;32m     13\u001b[0m \u001b[1;31m# Below seeing errors in percentile\u001b[0m\u001b[1;33m\u001b[0m\u001b[1;33m\u001b[0m\u001b[1;33m\u001b[0m\u001b[0m\n\u001b[0;32m     14\u001b[0m \u001b[0mprint\u001b[0m \u001b[1;33m(\u001b[0m\u001b[1;34m'percentile'\u001b[0m\u001b[1;33m)\u001b[0m\u001b[1;33m\u001b[0m\u001b[1;33m\u001b[0m\u001b[0m\n\u001b[1;32m---> 15\u001b[1;33m \u001b[0mprint\u001b[0m\u001b[1;33m(\u001b[0m\u001b[0mnp\u001b[0m\u001b[1;33m.\u001b[0m\u001b[0mpercentile\u001b[0m\u001b[1;33m(\u001b[0m\u001b[0mhwdata\u001b[0m\u001b[1;33m,\u001b[0m\u001b[1;36m30\u001b[0m\u001b[1;33m,\u001b[0m\u001b[0maxis\u001b[0m\u001b[1;33m=\u001b[0m\u001b[1;36m0\u001b[0m\u001b[1;33m)\u001b[0m\u001b[1;33m)\u001b[0m\u001b[1;33m\u001b[0m\u001b[1;33m\u001b[0m\u001b[0m\n\u001b[0m",
      "\u001b[1;32m<__array_function__ internals>\u001b[0m in \u001b[0;36mpercentile\u001b[1;34m(*args, **kwargs)\u001b[0m\n",
      "\u001b[1;32m~\\Anaconda3\\envs\\DSA_practice\\lib\\site-packages\\numpy\\lib\\function_base.py\u001b[0m in \u001b[0;36mpercentile\u001b[1;34m(a, q, axis, out, overwrite_input, interpolation, keepdims)\u001b[0m\n\u001b[0;32m   3865\u001b[0m     \u001b[1;32mif\u001b[0m \u001b[1;32mnot\u001b[0m \u001b[0m_quantile_is_valid\u001b[0m\u001b[1;33m(\u001b[0m\u001b[0mq\u001b[0m\u001b[1;33m)\u001b[0m\u001b[1;33m:\u001b[0m\u001b[1;33m\u001b[0m\u001b[1;33m\u001b[0m\u001b[0m\n\u001b[0;32m   3866\u001b[0m         \u001b[1;32mraise\u001b[0m \u001b[0mValueError\u001b[0m\u001b[1;33m(\u001b[0m\u001b[1;34m\"Percentiles must be in the range [0, 100]\"\u001b[0m\u001b[1;33m)\u001b[0m\u001b[1;33m\u001b[0m\u001b[1;33m\u001b[0m\u001b[0m\n\u001b[1;32m-> 3867\u001b[1;33m     return _quantile_unchecked(\n\u001b[0m\u001b[0;32m   3868\u001b[0m         a, q, axis, out, overwrite_input, interpolation, keepdims)\n\u001b[0;32m   3869\u001b[0m \u001b[1;33m\u001b[0m\u001b[0m\n",
      "\u001b[1;32m~\\Anaconda3\\envs\\DSA_practice\\lib\\site-packages\\numpy\\lib\\function_base.py\u001b[0m in \u001b[0;36m_quantile_unchecked\u001b[1;34m(a, q, axis, out, overwrite_input, interpolation, keepdims)\u001b[0m\n\u001b[0;32m   3984\u001b[0m                         interpolation='linear', keepdims=False):\n\u001b[0;32m   3985\u001b[0m     \u001b[1;34m\"\"\"Assumes that q is in [0, 1], and is an ndarray\"\"\"\u001b[0m\u001b[1;33m\u001b[0m\u001b[1;33m\u001b[0m\u001b[0m\n\u001b[1;32m-> 3986\u001b[1;33m     r, k = _ureduce(a, func=_quantile_ureduce_func, q=q, axis=axis, out=out,\n\u001b[0m\u001b[0;32m   3987\u001b[0m                     \u001b[0moverwrite_input\u001b[0m\u001b[1;33m=\u001b[0m\u001b[0moverwrite_input\u001b[0m\u001b[1;33m,\u001b[0m\u001b[1;33m\u001b[0m\u001b[1;33m\u001b[0m\u001b[0m\n\u001b[0;32m   3988\u001b[0m                     interpolation=interpolation)\n",
      "\u001b[1;32m~\\Anaconda3\\envs\\DSA_practice\\lib\\site-packages\\numpy\\lib\\function_base.py\u001b[0m in \u001b[0;36m_ureduce\u001b[1;34m(a, func, **kwargs)\u001b[0m\n\u001b[0;32m   3562\u001b[0m         \u001b[0mkeepdim\u001b[0m \u001b[1;33m=\u001b[0m \u001b[1;33m(\u001b[0m\u001b[1;36m1\u001b[0m\u001b[1;33m,\u001b[0m\u001b[1;33m)\u001b[0m \u001b[1;33m*\u001b[0m \u001b[0ma\u001b[0m\u001b[1;33m.\u001b[0m\u001b[0mndim\u001b[0m\u001b[1;33m\u001b[0m\u001b[1;33m\u001b[0m\u001b[0m\n\u001b[0;32m   3563\u001b[0m \u001b[1;33m\u001b[0m\u001b[0m\n\u001b[1;32m-> 3564\u001b[1;33m     \u001b[0mr\u001b[0m \u001b[1;33m=\u001b[0m \u001b[0mfunc\u001b[0m\u001b[1;33m(\u001b[0m\u001b[0ma\u001b[0m\u001b[1;33m,\u001b[0m \u001b[1;33m**\u001b[0m\u001b[0mkwargs\u001b[0m\u001b[1;33m)\u001b[0m\u001b[1;33m\u001b[0m\u001b[1;33m\u001b[0m\u001b[0m\n\u001b[0m\u001b[0;32m   3565\u001b[0m     \u001b[1;32mreturn\u001b[0m \u001b[0mr\u001b[0m\u001b[1;33m,\u001b[0m \u001b[0mkeepdim\u001b[0m\u001b[1;33m\u001b[0m\u001b[1;33m\u001b[0m\u001b[0m\n\u001b[0;32m   3566\u001b[0m \u001b[1;33m\u001b[0m\u001b[0m\n",
      "\u001b[1;32m~\\Anaconda3\\envs\\DSA_practice\\lib\\site-packages\\numpy\\lib\\function_base.py\u001b[0m in \u001b[0;36m_quantile_ureduce_func\u001b[1;34m(***failed resolving arguments***)\u001b[0m\n\u001b[0;32m   4110\u001b[0m         \u001b[0mx_above\u001b[0m \u001b[1;33m=\u001b[0m \u001b[0mtake\u001b[0m\u001b[1;33m(\u001b[0m\u001b[0map\u001b[0m\u001b[1;33m,\u001b[0m \u001b[0mindices_above\u001b[0m\u001b[1;33m,\u001b[0m \u001b[0maxis\u001b[0m\u001b[1;33m=\u001b[0m\u001b[1;36m0\u001b[0m\u001b[1;33m)\u001b[0m\u001b[1;33m\u001b[0m\u001b[1;33m\u001b[0m\u001b[0m\n\u001b[0;32m   4111\u001b[0m \u001b[1;33m\u001b[0m\u001b[0m\n\u001b[1;32m-> 4112\u001b[1;33m         \u001b[0mr\u001b[0m \u001b[1;33m=\u001b[0m \u001b[0m_lerp\u001b[0m\u001b[1;33m(\u001b[0m\u001b[0mx_below\u001b[0m\u001b[1;33m,\u001b[0m \u001b[0mx_above\u001b[0m\u001b[1;33m,\u001b[0m \u001b[0mweights_above\u001b[0m\u001b[1;33m,\u001b[0m \u001b[0mout\u001b[0m\u001b[1;33m=\u001b[0m\u001b[0mout\u001b[0m\u001b[1;33m)\u001b[0m\u001b[1;33m\u001b[0m\u001b[1;33m\u001b[0m\u001b[0m\n\u001b[0m\u001b[0;32m   4113\u001b[0m \u001b[1;33m\u001b[0m\u001b[0m\n\u001b[0;32m   4114\u001b[0m     \u001b[1;31m# if any slice contained a nan, then all results on that slice are also nan\u001b[0m\u001b[1;33m\u001b[0m\u001b[1;33m\u001b[0m\u001b[1;33m\u001b[0m\u001b[0m\n",
      "\u001b[1;32m~\\Anaconda3\\envs\\DSA_practice\\lib\\site-packages\\numpy\\lib\\function_base.py\u001b[0m in \u001b[0;36m_lerp\u001b[1;34m(a, b, t, out)\u001b[0m\n\u001b[0;32m   4007\u001b[0m \u001b[1;32mdef\u001b[0m \u001b[0m_lerp\u001b[0m\u001b[1;33m(\u001b[0m\u001b[0ma\u001b[0m\u001b[1;33m,\u001b[0m \u001b[0mb\u001b[0m\u001b[1;33m,\u001b[0m \u001b[0mt\u001b[0m\u001b[1;33m,\u001b[0m \u001b[0mout\u001b[0m\u001b[1;33m=\u001b[0m\u001b[1;32mNone\u001b[0m\u001b[1;33m)\u001b[0m\u001b[1;33m:\u001b[0m\u001b[1;33m\u001b[0m\u001b[1;33m\u001b[0m\u001b[0m\n\u001b[0;32m   4008\u001b[0m     \u001b[1;34m\"\"\" Linearly interpolate from a to b by a factor of t \"\"\"\u001b[0m\u001b[1;33m\u001b[0m\u001b[1;33m\u001b[0m\u001b[0m\n\u001b[1;32m-> 4009\u001b[1;33m     \u001b[0mdiff_b_a\u001b[0m \u001b[1;33m=\u001b[0m \u001b[0msubtract\u001b[0m\u001b[1;33m(\u001b[0m\u001b[0mb\u001b[0m\u001b[1;33m,\u001b[0m \u001b[0ma\u001b[0m\u001b[1;33m)\u001b[0m\u001b[1;33m\u001b[0m\u001b[1;33m\u001b[0m\u001b[0m\n\u001b[0m\u001b[0;32m   4010\u001b[0m     \u001b[1;31m# asanyarray is a stop-gap until gh-13105\u001b[0m\u001b[1;33m\u001b[0m\u001b[1;33m\u001b[0m\u001b[1;33m\u001b[0m\u001b[0m\n\u001b[0;32m   4011\u001b[0m     \u001b[0mlerp_interpolation\u001b[0m \u001b[1;33m=\u001b[0m \u001b[0masanyarray\u001b[0m\u001b[1;33m(\u001b[0m\u001b[0madd\u001b[0m\u001b[1;33m(\u001b[0m\u001b[0ma\u001b[0m\u001b[1;33m,\u001b[0m \u001b[0mdiff_b_a\u001b[0m\u001b[1;33m*\u001b[0m\u001b[0mt\u001b[0m\u001b[1;33m,\u001b[0m \u001b[0mout\u001b[0m\u001b[1;33m=\u001b[0m\u001b[0mout\u001b[0m\u001b[1;33m)\u001b[0m\u001b[1;33m)\u001b[0m\u001b[1;33m\u001b[0m\u001b[1;33m\u001b[0m\u001b[0m\n",
      "\u001b[1;31mTypeError\u001b[0m: unsupported operand type(s) for -: 'str' and 'str'"
     ]
    }
   ],
   "source": [
    "# Below using Numpy\n",
    "import numpy as np\n",
    "\n",
    "print ('mean')\n",
    "print(np.mean(hwdata,axis=0))\n",
    "print ('variance')\n",
    "print(np.var(hwdata,axis=0))\n",
    "print ('sum')\n",
    "print(np.sum(hwdata,axis=0))\n",
    "print ('max')\n",
    "print(np.max(hwdata,axis=0))\n",
    "print ('min')\n",
    "print(np.min(hwdata,axis=0))\n",
    "\n",
    "##### QUESTION 5: Below seeing errors in percentile, I'm not sure how to fix it!\n",
    "print ('percentile')\n",
    "print(np.percentile(hwdata,30,axis=0))"
   ]
  },
  {
   "cell_type": "code",
   "execution_count": 21,
   "metadata": {},
   "outputs": [
    {
     "data": {
      "text/plain": [
       "array([1, 1, 1, 1, 0, 1, 1, 1, 1, 1, 1, 1, 1, 1, 1, 1, 1, 1, 1, 1, 1, 1,\n",
       "       1, 1, 1, 1, 1, 1, 1, 1, 1, 1, 1, 1, 1, 1, 1, 1, 1, 1, 1, 1, 1, 1,\n",
       "       1, 1, 1, 1, 1, 0, 1, 1, 1, 1, 1, 1, 1, 1, 1, 1, 1, 1, 1, 1, 1, 0,\n",
       "       0, 0, 1, 1, 1, 1, 1, 1, 1, 1, 1, 1, 1, 1, 1, 1, 1, 1, 1, 1, 1, 1,\n",
       "       1, 1, 1, 1, 1, 1, 1, 1, 1, 1, 1, 1, 1, 1, 1, 1, 1, 1, 1, 1, 0, 1,\n",
       "       1, 1, 1, 1, 1, 0, 1, 1, 1, 0, 1, 1, 1, 1, 1, 1, 1, 1, 1, 1, 1, 1,\n",
       "       1, 1, 1, 1, 1, 1, 1, 1, 1, 1, 0, 1, 1, 1, 1, 1, 1, 1, 1, 1, 1, 1,\n",
       "       1, 1, 1, 0, 1, 1, 1, 1, 1, 1, 1, 1, 1, 1, 1, 1, 1, 1, 1, 1, 1, 1,\n",
       "       1, 1, 1, 0, 1, 0, 1, 0, 1, 1, 1, 1, 1, 1, 1, 1, 1, 1, 1, 1, 1, 1,\n",
       "       1, 1, 1, 1, 1, 0, 1, 1, 1, 1, 0, 1, 1, 1, 1, 1, 1, 1, 1, 1, 1, 1,\n",
       "       1, 1, 1, 1, 0, 1, 1, 1, 1, 1, 1, 0, 1, 1, 0, 1, 1, 1, 1, 1, 1, 1,\n",
       "       1, 1, 0, 1, 1, 1, 1, 1, 1, 1, 1, 1, 1, 1, 1, 1, 1, 1, 1, 1, 1, 1,\n",
       "       1, 1, 1, 1, 1, 1, 1, 1, 1, 1, 1, 1, 1, 1, 1, 1, 1, 1, 1, 1, 1, 0,\n",
       "       1, 1, 1, 1, 1, 0, 1, 1, 1, 1, 1, 1, 0, 1, 1, 1, 1, 1, 1, 1, 1, 1,\n",
       "       1, 1, 1, 1, 1, 1, 1, 1, 1, 0, 1, 1, 1, 0, 1, 1, 1, 1, 1, 1, 1, 1,\n",
       "       0, 1, 1, 1, 1, 1, 1, 1, 1, 1, 1, 1, 1, 1, 1, 1, 1, 1, 1, 1, 1, 1,\n",
       "       1, 1, 1, 1, 1, 1, 1, 1, 1, 1, 1, 1, 0, 0, 1, 1, 1, 1, 1, 1, 1, 1,\n",
       "       1, 1, 1, 1, 1, 1, 1, 1, 1, 1, 1, 1, 1, 1, 1, 1, 1, 1, 1, 1, 1, 1,\n",
       "       1, 1, 1, 1, 1, 1, 1, 1, 1, 1, 1, 1, 1, 1, 1, 1, 1, 1, 1, 1, 1, 0,\n",
       "       1, 1, 1, 1, 1, 1, 1, 1, 1, 1, 1, 1, 1, 1, 1, 1, 1, 1, 1, 0, 0, 1,\n",
       "       1, 1, 1, 1, 1, 1, 1, 1, 1, 1, 1, 1, 1, 1, 1, 1, 1, 1, 1, 1, 1, 1,\n",
       "       1, 1, 1, 1, 1, 1, 1, 1, 1, 1, 1, 1, 1, 1], dtype=object)"
      ]
     },
     "execution_count": 21,
     "metadata": {},
     "output_type": "execute_result"
    }
   ],
   "source": [
    "##### Question 6 = Do I have to change this into matrixes like this all the time?\n",
    "\n",
    "hwdatamatrix = np.array(hwdata)\n",
    "hwdatamatrix[:,4]"
   ]
  },
  {
   "cell_type": "code",
   "execution_count": 22,
   "metadata": {},
   "outputs": [
    {
     "data": {
      "text/plain": [
       "Ttest_indResult(statistic=-13.946293637388237, pvalue=2.3549546326746613e-40)"
      ]
     },
     "execution_count": 22,
     "metadata": {},
     "output_type": "execute_result"
    }
   ],
   "source": [
    "#19. Generate 2 random gaussian distributions and run a t-test to see differences\n",
    "# Comparing items 5 and 9\n",
    "\n",
    "import scipy\n",
    "from scipy import stats\n",
    "stats.ttest_ind(hwdatamatrix[:,4],hwdatamatrix[:,8])"
   ]
  },
  {
   "cell_type": "code",
   "execution_count": null,
   "metadata": {},
   "outputs": [],
   "source": []
  }
 ],
 "metadata": {
  "hide_input": false,
  "kernelspec": {
   "display_name": "Python 3",
   "language": "python",
   "name": "python3"
  },
  "language_info": {
   "codemirror_mode": {
    "name": "ipython",
    "version": 3
   },
   "file_extension": ".py",
   "mimetype": "text/x-python",
   "name": "python",
   "nbconvert_exporter": "python",
   "pygments_lexer": "ipython3",
   "version": "3.8.8"
  }
 },
 "nbformat": 4,
 "nbformat_minor": 4
}
